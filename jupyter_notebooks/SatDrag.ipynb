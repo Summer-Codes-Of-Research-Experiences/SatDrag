{
 "cells": [
  {
   "cell_type": "code",
   "execution_count": null,
   "metadata": {},
   "outputs": [],
   "source": [
    "#!/usr/bin/env python3\n",
    "# -*- coding: utf-8 -*-\n",
    "\"\"\"\n",
    "Created on Thu Jul 14 09:19:54 2022\n",
    "\n",
    "@author: vivianliu\n",
    "\"\"\"\n",
    "import pandas as pd\n",
    "import matplotlib.pyplot as plt\n",
    "import datetime as dt\n",
    "from gradient import create_gradient\n",
    "\n",
    "from sklearn.model_selection import train_test_split\n",
    "from sklearn.ensemble import RandomForestRegressor\n",
    "from sklearn.metrics import mean_absolute_error\n",
    "from sklearn.metrics import mean_absolute_percentage_error\n",
    "from sklearn.metrics import r2_score\n"
   ]
  },
  {
   "cell_type": "code",
   "execution_count": 2,
   "metadata": {},
   "outputs": [],
   "source": [
    "#Parameters\n",
    "#   data: a data frame or string pathname type\n",
    "#   target_variable: string with target variable name\n",
    "#   features (optional): takes a list type with the names of all the \n",
    "#                        variables to include. Default is all\n",
    "#   estimators (optional): integer for number of estimators in \n",
    "#                       random forest. Default is 150\n",
    "#   select (optional): A 4 digit year input that allows users to \n",
    "#                       select training data before inputted year\n",
    "#   rdm_state (optional): integer for random state of random \n",
    "#                        forest regression. Defult is 16\n",
    "#   test_portion (optional): float between 0 and 1 for \n",
    "#                         proportion of data used for test. \n",
    "#                         Default is 0.25\n",
    "#   plot: boolean input indicating whether or not to plot the \n",
    "#                        prediction and true data. Default is False\n",
    "#Returns:\n",
    "#   Does not return a value. Prints out measurements of \n",
    "#   accuracy as well as feature importances\n",
    "\n",
    "data = \"combined_data_all_reduced_omni.csv\"\n",
    "target_variable = '400kmDensity'\n",
    "#Below is our \"Standard model\" for what we want to compare to. \n",
    "using_features = [\"irradiance (W/m^2/nm)\", \"MagTime\",\"SLat\", \n",
    "                  \"SYM/H_INDEX_nT\", \"1-M_AE_nT\", \"3-H_KP*10_\"]\n",
    "features = using_features #All\n",
    "drop_features = [\"year\", \"hour\", \"minute\", \"second\"] #None\n",
    "estimators = 150\n",
    "select = None\n",
    "rdm_state = 16\n",
    "test_portion = 0.25\n",
    "plot = True #False"
   ]
  },
  {
   "cell_type": "code",
   "execution_count": null,
   "metadata": {},
   "outputs": [],
   "source": []
  }
 ],
 "metadata": {
  "kernelspec": {
   "display_name": "Python 3",
   "language": "python",
   "name": "python3"
  },
  "language_info": {
   "codemirror_mode": {
    "name": "ipython",
    "version": 3
   },
   "file_extension": ".py",
   "mimetype": "text/x-python",
   "name": "python",
   "nbconvert_exporter": "python",
   "pygments_lexer": "ipython3",
   "version": "3.7.4"
  }
 },
 "nbformat": 4,
 "nbformat_minor": 2
}
